{
  "nbformat": 4,
  "nbformat_minor": 0,
  "metadata": {
    "colab": {
      "provenance": [],
      "authorship_tag": "ABX9TyNAOOjWvRCsH+qPasnCjVvJ",
      "include_colab_link": true
    },
    "kernelspec": {
      "name": "python3",
      "display_name": "Python 3"
    },
    "language_info": {
      "name": "python"
    }
  },
  "cells": [
    {
      "cell_type": "markdown",
      "metadata": {
        "id": "view-in-github",
        "colab_type": "text"
      },
      "source": [
        "<a href=\"https://colab.research.google.com/github/joseauto/Programacao_web_GCI_1/blob/main/Programa%C3%A7%C3%A3o_Web(Feito).ipynb\" target=\"_parent\"><img src=\"https://colab.research.google.com/assets/colab-badge.svg\" alt=\"Open In Colab\"/></a>"
      ]
    },
    {
      "cell_type": "markdown",
      "source": [
        "# Aluno:\n",
        "* José Auto Araujo Neto"
      ],
      "metadata": {
        "id": "PPMFriYEt_KH"
      }
    },
    {
      "cell_type": "markdown",
      "source": [
        "# Requisitos:\n"
      ],
      "metadata": {
        "id": "pThxxtTfpBw_"
      }
    },
    {
      "cell_type": "markdown",
      "source": [
        "* Apache Web Server\n",
        "* Linux (como Ubuntu)."
      ],
      "metadata": {
        "id": "e4vyJhXNpiRN"
      }
    },
    {
      "cell_type": "markdown",
      "source": [
        "# Instalação Apache"
      ],
      "metadata": {
        "id": "l-Cctau5plJf"
      }
    },
    {
      "cell_type": "code",
      "source": [
        "sudo apt update\n",
        "sudo apt install apache2"
      ],
      "metadata": {
        "id": "9AN3oKoNppkY"
      },
      "execution_count": null,
      "outputs": []
    },
    {
      "cell_type": "markdown",
      "source": [
        " Configurando o Apache para Suportar Scripts CGI\n",
        " * Ativando o Módulo CGI: Execute este comando para ativar o módulo CGI no Apache:"
      ],
      "metadata": {
        "id": "F0EM7lOkpsAC"
      }
    },
    {
      "cell_type": "code",
      "source": [
        "sudo a2enmod cgi"
      ],
      "metadata": {
        "id": "_Y2oB2XGpvjf"
      },
      "execution_count": null,
      "outputs": []
    },
    {
      "cell_type": "markdown",
      "source": [
        "* Configurando a Pasta CGI-BIN: Por padrão, o Apache já tem uma pasta configurada para scripts CGI, normalmente em /usr/lib/cgi-bin/."
      ],
      "metadata": {
        "id": "UnoWQtdyp3uV"
      }
    },
    {
      "cell_type": "code",
      "source": [
        "sudo nano /etc/apache2/sites-available/000-default.conf"
      ],
      "metadata": {
        "id": "8qZV-COgqCIG"
      },
      "execution_count": null,
      "outputs": []
    },
    {
      "cell_type": "markdown",
      "source": [
        "* Dentro desse arquivo, adicione as seguintes linhas (ou verifique se já estão presentes):"
      ],
      "metadata": {
        "id": "zaQdvOb1qOu9"
      }
    },
    {
      "cell_type": "code",
      "source": [
        "<Directory \"/usr/lib/cgi-bin\">\n",
        "    AllowOverride None\n",
        "    Options +ExecCGI\n",
        "    AddHandler cgi-script .cgi .sh\n",
        "    Require all granted\n",
        "</Directory>"
      ],
      "metadata": {
        "id": "cHGeOBx5qVQb"
      },
      "execution_count": null,
      "outputs": []
    },
    {
      "cell_type": "markdown",
      "source": [
        "* Salve e feche o arquivo (Ctrl + X, Y, Enter para salvar no Nano)."
      ],
      "metadata": {
        "id": "ufXLevccqmhO"
      }
    },
    {
      "cell_type": "markdown",
      "source": [
        "* Reinicie o Apache para aplicar as configurações:"
      ],
      "metadata": {
        "id": "sqsjUvR3q7NZ"
      }
    },
    {
      "cell_type": "code",
      "source": [
        "sudo systemctl restart apache2"
      ],
      "metadata": {
        "id": "zY6dR-esqohN"
      },
      "execution_count": null,
      "outputs": []
    },
    {
      "cell_type": "markdown",
      "source": [
        "# Formulario HTML"
      ],
      "metadata": {
        "id": "wxl0EK14q-HJ"
      }
    },
    {
      "cell_type": "markdown",
      "source": [
        "* Crie a página HTML para capturar o nome do usuário."
      ],
      "metadata": {
        "id": "5t9LbrswrWYk"
      }
    },
    {
      "cell_type": "code",
      "source": [
        "sudo nano /var/www/html/form.html"
      ],
      "metadata": {
        "id": "peM8_vX7ra_J"
      },
      "execution_count": null,
      "outputs": []
    },
    {
      "cell_type": "markdown",
      "source": [
        "* Cole o seguinte código no arquivo **form.html** :"
      ],
      "metadata": {
        "id": "M2dcbxSardjR"
      }
    },
    {
      "cell_type": "code",
      "source": [
        "<!DOCTYPE html>\n",
        "<html lang=\"pt-br\">\n",
        "<head>\n",
        "    <meta charset=\"UTF-8\">\n",
        "    <title>Formulário de Saudação</title>\n",
        "</head>\n",
        "<body>\n",
        "    <h1>Bem-vindo!</h1>\n",
        "    <form action=\"/cgi-bin/saudacao.cgi\" method=\"post\">\n",
        "        <label for=\"nome\">Digite seu nome:</label>\n",
        "        <input type=\"text\" id=\"nome\" name=\"nome\" required>\n",
        "        <button type=\"submit\">Enviar</button>\n",
        "    </form>\n",
        "</body>\n",
        "</html>"
      ],
      "metadata": {
        "id": "PSsFp464r3jP"
      },
      "execution_count": null,
      "outputs": []
    },
    {
      "cell_type": "markdown",
      "source": [
        "* Salve e feche o arquivo."
      ],
      "metadata": {
        "id": "st4G0Xd_sB33"
      }
    },
    {
      "cell_type": "markdown",
      "source": [
        "#  Script CGI em Bash"
      ],
      "metadata": {
        "id": "Ei8XyPyJsIqT"
      }
    },
    {
      "cell_type": "markdown",
      "source": [
        "* Crie o script CGI dentro da pasta /usr/lib/cgi-bin/"
      ],
      "metadata": {
        "id": "2MfHvWRSsKMR"
      }
    },
    {
      "cell_type": "code",
      "source": [
        "sudo nano /usr/lib/cgi-bin/saudacao.cgi"
      ],
      "metadata": {
        "id": "KvrUMa1EsaYn"
      },
      "execution_count": null,
      "outputs": []
    },
    {
      "cell_type": "markdown",
      "source": [
        "* Cole o Seguite Código:"
      ],
      "metadata": {
        "id": "D10KZ0RZsceU"
      }
    },
    {
      "cell_type": "code",
      "source": [
        "#!/bin/bash\n",
        "\n",
        "\n",
        "echo \"Content-Type: text/html\"\n",
        "echo \"\"\n",
        "\n",
        "\n",
        "read POST_DATA\n",
        "\n",
        "\n",
        "NOME=$(echo \"$POST_DATA\" | sed -n 's/.*nome=\\(.*\\)/\\1/p' | sed 's/%20/ /g' | sed 's/+/ /g' | sed 's/%..//g')\n",
        "\n",
        "\n",
        "echo \"<!DOCTYPE html>\"\n",
        "echo \"<html lang='pt-br'>\"\n",
        "echo \"<head>\"\n",
        "echo \"    <meta charset='UTF-8'>\"\n",
        "echo \"    <title>Saudação</title>\"\n",
        "echo \"</head>\"\n",
        "echo \"<body>\"\n",
        "echo \"    <h1>Olá, $NOME!</h1>\"\n",
        "echo \"</body>\"\n",
        "echo \"</html>\"\n"
      ],
      "metadata": {
        "id": "O0oFUstRsmkb"
      },
      "execution_count": null,
      "outputs": []
    },
    {
      "cell_type": "markdown",
      "source": [
        "* Salve e Saia."
      ],
      "metadata": {
        "id": "qXXm2_Y5s7ji"
      }
    },
    {
      "cell_type": "markdown",
      "source": [
        "* Dê Permissão de execução de Script:"
      ],
      "metadata": {
        "id": "TpWA7AHHtBHO"
      }
    },
    {
      "cell_type": "code",
      "source": [
        "sudo chmod +x /usr/lib/cgi-bin/saudacao.cgi"
      ],
      "metadata": {
        "id": "nERfatJBtJcC"
      },
      "execution_count": null,
      "outputs": []
    },
    {
      "cell_type": "markdown",
      "source": [
        "# Teste"
      ],
      "metadata": {
        "id": "xpQz0VGg4hZn"
      }
    },
    {
      "cell_type": "markdown",
      "source": [
        "* Abra o navegador e acesse a página do formulário em http://localhost/form.html."
      ],
      "metadata": {
        "id": "7eTN_JRXtgzo"
      }
    },
    {
      "cell_type": "markdown",
      "source": [
        "* Digite um nome no campo e clique em \"Enviar\"."
      ],
      "metadata": {
        "id": "wj63lFuZts7o"
      }
    },
    {
      "cell_type": "markdown",
      "source": [
        "* Se tudo estiver configurado corretamente, o navegador mostrará uma nova página com a mensagem de saudação, como: \"Olá, Fulano!\"."
      ],
      "metadata": {
        "id": "WSWAEP_1tzSs"
      }
    }
  ]
}